{
 "cells": [
  {
   "cell_type": "markdown",
   "id": "29de62c7",
   "metadata": {},
   "source": [
    "# Automating Product Listing Translation Using Large Language Models and Structured Outputs"
   ]
  },
  {
   "cell_type": "markdown",
   "id": "7ebc2a8a",
   "metadata": {},
   "source": [
    "## Importing the Necessary Libraries"
   ]
  },
  {
   "cell_type": "code",
   "execution_count": 25,
   "id": "af4d068e",
   "metadata": {},
   "outputs": [],
   "source": [
    "import json\n",
    "from enum import Enum\n",
    "\n",
    "import pandas as pd\n",
    "\n",
    "from google import genai\n",
    "from google.genai.types import HttpOptions\n",
    "\n",
    "from pydantic import BaseModel"
   ]
  },
  {
   "cell_type": "markdown",
   "id": "3ab3ee57",
   "metadata": {},
   "source": [
    "## Reading the Dataset"
   ]
  },
  {
   "cell_type": "code",
   "execution_count": 26,
   "id": "577b70d7",
   "metadata": {},
   "outputs": [],
   "source": [
    "df_source = pd.read_csv(\n",
    "    \"https://raw.githubusercontent.com/muw78/automating-product-listing-translation-using-llms-and-structured-outputs/refs/heads/main/source_listing.tsv\",\n",
    "    sep=\"\\t\",\n",
    ")\n",
    "df_source.fillna(\"\", inplace=True)  # Replace empty cells with empty strings\n",
    "source_listing = df_source.to_dict(orient=\"records\")"
   ]
  },
  {
   "cell_type": "markdown",
   "id": "e390a7a7",
   "metadata": {},
   "source": [
    "## Defining the Structured Output Format"
   ]
  },
  {
   "cell_type": "code",
   "execution_count": 27,
   "id": "d87daca8",
   "metadata": {},
   "outputs": [],
   "source": [
    "class ParentChild(str, Enum):\n",
    "    PARENT = \"parent\"\n",
    "    CHILD = \"child\"\n",
    "\n",
    "\n",
    "class AmazonSKU(BaseModel):\n",
    "    parent_child: ParentChild\n",
    "    item_sku: str\n",
    "    brand: str\n",
    "    item_name: str\n",
    "    bullet_point1: str\n",
    "    bullet_point2: str\n",
    "    bullet_point3: str\n",
    "    bullet_point4: str\n",
    "    bullet_point5: str\n",
    "    product_description: str\n",
    "    color_name: str\n",
    "    size_name: str\n",
    "\n",
    "\n",
    "class AmazonListing(BaseModel):\n",
    "    skus: list[AmazonSKU]"
   ]
  },
  {
   "cell_type": "markdown",
   "id": "c6cd8ab8",
   "metadata": {},
   "source": [
    "## Generating the Prompt"
   ]
  },
  {
   "cell_type": "code",
   "execution_count": 28,
   "id": "4ffd3717",
   "metadata": {},
   "outputs": [],
   "source": [
    "target_language = \"German\"\n",
    "\n",
    "prompt_template = \"\"\"\n",
    "Translate the following Amazon listing into **{target_language}**.\n",
    "\n",
    "- CRITICAL: Do NOT translate the values for `parent_child`, `item_sku`, or `brand`.\n",
    "- The `item_name` should always start with the brand name.\n",
    "- Use clear, professional, and descriptive language appropriate for the product category.\n",
    "\n",
    "```json\n",
    "{source_listing}\n",
    "```\n",
    "\"\"\""
   ]
  },
  {
   "cell_type": "code",
   "execution_count": 29,
   "id": "cac3e57a",
   "metadata": {},
   "outputs": [],
   "source": [
    "prompt = prompt_template.format(\n",
    "    target_language=target_language,\n",
    "    source_listing=json.dumps(source_listing, indent=4),\n",
    ")"
   ]
  },
  {
   "cell_type": "markdown",
   "id": "f7454977",
   "metadata": {},
   "source": [
    "## Initializing the Gemini Client"
   ]
  },
  {
   "cell_type": "code",
   "execution_count": 30,
   "id": "281c04c6",
   "metadata": {},
   "outputs": [],
   "source": [
    "GEMINI_TIMEOUT = 3 * 60 * 1000  # 3 minutes in milliseconds\n",
    "genai_client = genai.Client(http_options=HttpOptions(timeout=GEMINI_TIMEOUT))"
   ]
  },
  {
   "cell_type": "markdown",
   "id": "d8f0dfe8",
   "metadata": {},
   "source": [
    "## Sending the Request to the Gemini API"
   ]
  },
  {
   "cell_type": "code",
   "execution_count": 31,
   "id": "321499d2",
   "metadata": {},
   "outputs": [],
   "source": [
    "response = genai_client.models.generate_content(\n",
    "    model=\"gemini-2.5-pro\",\n",
    "    contents=[prompt],\n",
    "    config={\n",
    "        \"response_mime_type\": \"application/json\",\n",
    "        \"response_schema\": AmazonListing,\n",
    "        \"temperature\": 0.2,\n",
    "    },\n",
    ")"
   ]
  },
  {
   "cell_type": "markdown",
   "id": "c780c488",
   "metadata": {},
   "source": [
    "# Parsing the Response"
   ]
  },
  {
   "cell_type": "code",
   "execution_count": 32,
   "id": "5edd4d48",
   "metadata": {},
   "outputs": [],
   "source": [
    "result_string = response.text.strip()\n",
    "result = json.loads(result_string)\n",
    "translated_listing = result[\"skus\"]"
   ]
  },
  {
   "cell_type": "code",
   "execution_count": 34,
   "id": "bb8fc48c",
   "metadata": {},
   "source": [
    "all(\n",
    "    (source[\"item_sku\"], source[\"brand\"], source[\"parent_child\"])\n",
    "    == (translated[\"item_sku\"], translated[\"brand\"], translated[\"parent_child\"])\n",
    "    for source, translated in zip(source_listing, translated_listing)\n",
    ")  # Should return True"
   ]
  },
  {
   "cell_type": "code",
   "execution_count": null,
   "id": "b4dbc601",
   "metadata": {},
   "outputs": [],
   "source": [
    "df_translated = pd.DataFrame(translated_listing)"
   ]
  }
 ],
 "metadata": {
  "kernelspec": {
   "display_name": ".venv",
   "language": "python",
   "name": "python3"
  },
  "language_info": {
   "codemirror_mode": {
    "name": "ipython",
    "version": 3
   },
   "file_extension": ".py",
   "mimetype": "text/x-python",
   "name": "python",
   "nbconvert_exporter": "python",
   "pygments_lexer": "ipython3",
   "version": "3.13.2"
  }
 },
 "nbformat": 4,
 "nbformat_minor": 5
}
